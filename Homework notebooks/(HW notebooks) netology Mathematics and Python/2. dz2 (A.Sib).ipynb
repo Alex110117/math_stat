{
 "cells": [
  {
   "cell_type": "markdown",
   "metadata": {},
   "source": [
    "### Домашнее задание «Циклы. Типы данных. Коллекции данных»"
   ]
  },
  {
   "cell_type": "markdown",
   "metadata": {},
   "source": [
    "### *Задание 1*"
   ]
  },
  {
   "cell_type": "markdown",
   "metadata": {},
   "source": [
    "Дан список с визитами по городам и странам. Напишите код, который возвращает отфильтрованный список geo_logs, содержащий только визиты из России. Считайте, что список geo_logs легко помещается в оперативной памяти."
   ]
  },
  {
   "cell_type": "code",
   "execution_count": 2,
   "metadata": {},
   "outputs": [],
   "source": [
    "# geo_logs = [\n",
    "#     {'visit1': ['Москва', 'Россия']},\n",
    "#     {'visit2': ['Дели', 'Индия']},\n",
    "#     {'visit3': ['Владимир', 'Россия']},\n",
    "#     {'visit4': ['Лиссабон', 'Португалия']},\n",
    "#     {'visit5': ['Париж', 'Франция']},\n",
    "#     {'visit6': ['Лиссабон', 'Португалия']},\n",
    "#     {'visit7': ['Тула', 'Россия']},\n",
    "#     {'visit8': ['Тула', 'Россия']},\n",
    "#     {'visit9': ['Курск', 'Россия']},\n",
    "#     {'visit10': ['Архангельск', 'Россия']},\n",
    "# ]"
   ]
  },
  {
   "cell_type": "markdown",
   "metadata": {},
   "source": [
    "### Решение"
   ]
  },
  {
   "cell_type": "code",
   "execution_count": 28,
   "metadata": {},
   "outputs": [],
   "source": [
    "geo_logs = [\n",
    "    {'visit1': ['Москва', 'Россия']},\n",
    "    {'visit2': ['Дели', 'Индия']},\n",
    "    {'visit3': ['Владимир', 'Россия']},\n",
    "    {'visit4': ['Лиссабон', 'Португалия']},\n",
    "    {'visit5': ['Париж', 'Франция']},\n",
    "    {'visit6': ['Лиссабон', 'Португалия']},\n",
    "    {'visit7': ['Тула', 'Россия']},\n",
    "    {'visit8': ['Тула', 'Россия']},\n",
    "    {'visit9': ['Курск', 'Россия']},\n",
    "    {'visit10': ['Архангельск', 'Россия']},\n",
    "]"
   ]
  },
  {
   "cell_type": "code",
   "execution_count": 2,
   "metadata": {},
   "outputs": [
    {
     "data": {
      "text/plain": [
       "[{'visit1': ['Москва', 'Россия']},\n",
       " {'visit3': ['Владимир', 'Россия']},\n",
       " {'visit7': ['Тула', 'Россия']},\n",
       " {'visit8': ['Тула', 'Россия']},\n",
       " {'visit9': ['Курск', 'Россия']},\n",
       " {'visit10': ['Архангельск', 'Россия']}]"
      ]
     },
     "execution_count": 2,
     "metadata": {},
     "output_type": "execute_result"
    }
   ],
   "source": [
    "b = 0\n",
    "filteredSequence = []\n",
    "search_city = 'Россия'\n",
    "\n",
    "for i in geo_logs:\n",
    "    for a in geo_logs[b]:\n",
    "        if geo_logs[b][a][1] == search_city:\n",
    "            filteredSequence.append(geo_logs[b])\n",
    "        b += 1\n",
    "\n",
    "filteredSequence"
   ]
  },
  {
   "cell_type": "code",
   "execution_count": 2,
   "metadata": {},
   "outputs": [
    {
     "name": "stdout",
     "output_type": "stream",
     "text": [
      "{'visit1': ['Москва', 'Россия']}\n",
      "{'visit3': ['Владимир', 'Россия']}\n",
      "{'visit7': ['Тула', 'Россия']}\n",
      "{'visit8': ['Тула', 'Россия']}\n",
      "{'visit9': ['Курск', 'Россия']}\n",
      "{'visit10': ['Архангельск', 'Россия']}\n"
     ]
    }
   ],
   "source": [
    "# в rec будет словарь вида {'visit1': ['Москва', 'Россия']}\n",
    "for rec in geo_logs:\n",
    "    \n",
    "    # проходим по значениям словаря\n",
    "    # значение одно, это список вида ['Москва', 'Россия']\n",
    "    for city_country_list in rec.values():\n",
    "        \n",
    "        # проверка есть ли в списке Россия\n",
    "        if 'Россия' in city_country_list:\n",
    "            print(rec)"
   ]
  },
  {
   "cell_type": "code",
   "execution_count": 19,
   "metadata": {},
   "outputs": [
    {
     "data": {
      "text/plain": [
       "[{'visit4': ['Лиссабон', 'Португалия']},\n",
       " {'visit6': ['Лиссабон', 'Португалия']}]"
      ]
     },
     "execution_count": 19,
     "metadata": {},
     "output_type": "execute_result"
    }
   ],
   "source": [
    "list(filter(lambda visit: 'Португалия' in list(visit.values())[0], geo_logs))"
   ]
  },
  {
   "cell_type": "code",
   "execution_count": 29,
   "metadata": {},
   "outputs": [
    {
     "name": "stdout",
     "output_type": "stream",
     "text": [
      "{'visit1': ['Москва', 'Россия']}\n",
      "{'visit3': ['Владимир', 'Россия']}\n",
      "{'visit7': ['Тула', 'Россия']}\n",
      "{'visit8': ['Тула', 'Россия']}\n",
      "{'visit9': ['Курск', 'Россия']}\n",
      "{'visit10': ['Архангельск', 'Россия']}\n"
     ]
    }
   ],
   "source": [
    "def SortList(ListValue, param):\n",
    "        SortListValue = []\n",
    "        for val in ListValue:\n",
    "                if list(val.values())[0][1] == param:\n",
    "                        SortListValue.append(val)\n",
    "        return SortListValue\n",
    "\n",
    "d = SortList(geo_logs, 'Россия')\n",
    "for i in d:\n",
    "    print(i)"
   ]
  },
  {
   "cell_type": "markdown",
   "metadata": {},
   "source": [
    "### *Задание 2*"
   ]
  },
  {
   "cell_type": "markdown",
   "metadata": {},
   "source": [
    "Выведите на экран все уникальные гео-ID из значений словаря ids. Т. е. список вида [213, 15, 54, 119, 98, 35]"
   ]
  },
  {
   "cell_type": "code",
   "execution_count": null,
   "metadata": {},
   "outputs": [],
   "source": [
    "# ids = {'user1': [213, 213, 213, 15, 213], 'user2': [54, 54, 119, 119, 119], 'user3': [213, 98, 98, 35]}"
   ]
  },
  {
   "cell_type": "markdown",
   "metadata": {},
   "source": [
    "### Решение"
   ]
  },
  {
   "cell_type": "code",
   "execution_count": 24,
   "metadata": {},
   "outputs": [],
   "source": [
    "ids = {'user1': [213, 213, 213, 15, 213], 'user2': [54, 54, 119, 119, 119], 'user3': [213, 98, 98, 35]}"
   ]
  },
  {
   "cell_type": "code",
   "execution_count": 25,
   "metadata": {},
   "outputs": [
    {
     "data": {
      "text/plain": [
       "[98, 35, 15, 213, 54, 119]"
      ]
     },
     "execution_count": 25,
     "metadata": {},
     "output_type": "execute_result"
    }
   ],
   "source": [
    "reo_ID = []\n",
    "\n",
    "for k, v in ids.items():\n",
    "    reo_ID.append(v)\n",
    "#     print({k: list(set(v))})\n",
    "\n",
    "# print(reo_ID)\n",
    "\n",
    "new_reo_ID = [i for lst in reo_ID for i in lst]\n",
    "new_reo_ID2 = set(new_reo_ID)\n",
    "new_reo_ID3 = list(new_reo_ID2)\n",
    "new_reo_ID3"
   ]
  },
  {
   "cell_type": "code",
   "execution_count": 26,
   "metadata": {},
   "outputs": [
    {
     "name": "stdout",
     "output_type": "stream",
     "text": [
      "[15, 35, 54, 98, 119, 213]\n"
     ]
    }
   ],
   "source": [
    "res = set()\n",
    "\n",
    "for i in ids:\n",
    "    res.update(ids[i])\n",
    "\n",
    "print(sorted(res))"
   ]
  },
  {
   "cell_type": "code",
   "execution_count": 27,
   "metadata": {},
   "outputs": [
    {
     "data": {
      "text/plain": [
       "[98, 35, 15, 213, 54, 119]"
      ]
     },
     "execution_count": 27,
     "metadata": {},
     "output_type": "execute_result"
    }
   ],
   "source": [
    "list(set(sum(list(ids.values()), [])))"
   ]
  },
  {
   "cell_type": "markdown",
   "metadata": {},
   "source": [
    "### *Задание 3*"
   ]
  },
  {
   "cell_type": "markdown",
   "metadata": {},
   "source": [
    "Список поисковых запросов. Получить распределение количества слов в них. Т. е. поисковых запросов из одного слова 5%, из двух - 7%, из трех - 3% итд."
   ]
  },
  {
   "cell_type": "code",
   "execution_count": null,
   "metadata": {},
   "outputs": [],
   "source": [
    "# queries = [\n",
    "#     'смотреть сериалы онлайн',\n",
    "#     'новости спорта',\n",
    "#     'афиша кино',\n",
    "#     'курс доллара',\n",
    "#     'сериалы этим летом',\n",
    "#     'курс по питону',\n",
    "#     'сериалы про спорт',\n",
    "# ]"
   ]
  },
  {
   "cell_type": "markdown",
   "metadata": {},
   "source": [
    "### Решение"
   ]
  },
  {
   "cell_type": "code",
   "execution_count": 18,
   "metadata": {},
   "outputs": [],
   "source": [
    "queries = [\n",
    "    'смотреть сериалы онлайн',\n",
    "    'новости спорта',\n",
    "    'афиша кино',\n",
    "    'курс доллара',\n",
    "    'сериалы этим летом',\n",
    "    'курс по питону',\n",
    "    'сериалы про спорт',\n",
    "]"
   ]
  },
  {
   "cell_type": "code",
   "execution_count": 21,
   "metadata": {},
   "outputs": [
    {
     "data": {
      "text/plain": [
       "Counter({3: 57.14, 2: 42.86})"
      ]
     },
     "execution_count": 21,
     "metadata": {},
     "output_type": "execute_result"
    }
   ],
   "source": [
    "from collections import Counter\n",
    "\n",
    "counter = Counter([len(query.split()) for query in queries])\n",
    "\n",
    "for k in counter.keys():\n",
    "    counter[k] = round(counter[k] / len(queries) * 100, 2)\n",
    "\n",
    "counter"
   ]
  },
  {
   "cell_type": "code",
   "execution_count": 22,
   "metadata": {},
   "outputs": [
    {
     "data": {
      "text/plain": [
       "57.14"
      ]
     },
     "execution_count": 22,
     "metadata": {},
     "output_type": "execute_result"
    }
   ],
   "source": [
    "lt = [len(i.split()) for i in queries]\n",
    "lt_1 = Counter(lt)\n",
    "lt_1\n",
    "\n",
    "a = round(lt_1[3] / len(queries) * 100, 2)\n",
    "a"
   ]
  },
  {
   "cell_type": "code",
   "execution_count": 20,
   "metadata": {},
   "outputs": [
    {
     "name": "stdout",
     "output_type": "stream",
     "text": [
      "Queries of 3 word(s) length - 57%\n",
      "Queries of 2 word(s) length - 43%\n"
     ]
    }
   ],
   "source": [
    "words_counter = Counter(map(lambda x: len(x.split()), queries))\n",
    "res = {k:round(100*v/len(queries)) for k,v in words_counter.items()}\n",
    "\n",
    "for query_words_count, percent in res.items():\n",
    "    print('Queries of {} word(s) length - {}%'.format(query_words_count, percent))"
   ]
  },
  {
   "cell_type": "markdown",
   "metadata": {},
   "source": [
    "### *Задание 4*"
   ]
  },
  {
   "cell_type": "markdown",
   "metadata": {},
   "source": [
    "Дана статистика рекламных каналов по объемам продаж. Напишите скрипт, который возвращает название канала с максимальным объемом.\n",
    "Т. е. в данном примере скрипт должен возвращать 'yandex'."
   ]
  },
  {
   "cell_type": "code",
   "execution_count": null,
   "metadata": {},
   "outputs": [],
   "source": [
    "# stats = {'facebook': 55, 'yandex': 120, 'vk': 115, 'google': 99, 'email': 42, 'ok': 98}"
   ]
  },
  {
   "cell_type": "markdown",
   "metadata": {},
   "source": [
    "### Решение"
   ]
  },
  {
   "cell_type": "code",
   "execution_count": 5,
   "metadata": {},
   "outputs": [],
   "source": [
    "stats = {'facebook': 55, 'yandex': 120, 'vk': 115, 'google': 99, 'email': 42, 'ok': 98}"
   ]
  },
  {
   "cell_type": "code",
   "execution_count": 22,
   "metadata": {},
   "outputs": [
    {
     "data": {
      "text/plain": [
       "{'yandex': 120}"
      ]
     },
     "execution_count": 22,
     "metadata": {},
     "output_type": "execute_result"
    }
   ],
   "source": [
    "max_val = max(stats.values())\n",
    "final_dict = {k:v for k, v in stats.items() if v == max_val}\n",
    "final_dict"
   ]
  },
  {
   "cell_type": "code",
   "execution_count": 23,
   "metadata": {},
   "outputs": [
    {
     "name": "stdout",
     "output_type": "stream",
     "text": [
      "{'yandex': 120}\n"
     ]
    }
   ],
   "source": [
    "for k, v in stats.items():\n",
    "    if v == max(stats.values()):\n",
    "               print({k : v})"
   ]
  },
  {
   "cell_type": "code",
   "execution_count": 7,
   "metadata": {},
   "outputs": [],
   "source": [
    "# max(stats, key=stats.get)"
   ]
  },
  {
   "cell_type": "code",
   "execution_count": 16,
   "metadata": {},
   "outputs": [
    {
     "name": "stdout",
     "output_type": "stream",
     "text": [
      "Top channel is yandex (with sales volume 120).\n"
     ]
    }
   ],
   "source": [
    "res = sorted(stats.items(), key = lambda x: x[1], reverse=True)\n",
    "print('Top channel is {0} (with sales volume {1}).'.format(res[0][0], res[0][1]))"
   ]
  },
  {
   "cell_type": "markdown",
   "metadata": {},
   "source": [
    "### *Задание 5*"
   ]
  },
  {
   "cell_type": "markdown",
   "metadata": {},
   "source": [
    "Дан поток логов по количеству просмотренных страниц для каждого пользователя. Список отсортирован по ID пользователя. Вам необходимо написать алгоритм, который считает среднее значение просмотров на пользователя. Т. е. надо посчитать отношение суммы всех просмотров к количеству уникальных пользователей. Учтите, что весь список stream не помещается в оперативную память, т. е. его нужно обрабатывать поэлементно в цикле."
   ]
  },
  {
   "cell_type": "code",
   "execution_count": null,
   "metadata": {},
   "outputs": [],
   "source": [
    "# stream = [\n",
    "#     '2018-01-01,user1,3',\n",
    "#     '2018-01-07,user1,4',\n",
    "#     '2018-03-29,user1,1',\n",
    "#     '2018-04-04,user1,13',\n",
    "#     '2018-01-05,user2,7',\n",
    "#     '2018-06-14,user3,4',\n",
    "#     '2018-07-02,user3,10',\n",
    "#     '2018-03-21,user4,19',\n",
    "#     '2018-03-22,user4,4',\n",
    "#     '2018-04-22,user4,8',\n",
    "#     '2018-05-03,user4,9',\n",
    "#     '2018-05-11,user4,11',\n",
    "# ]"
   ]
  },
  {
   "cell_type": "markdown",
   "metadata": {},
   "source": [
    "### Решение"
   ]
  },
  {
   "cell_type": "code",
   "execution_count": 12,
   "metadata": {},
   "outputs": [],
   "source": [
    "stream = [\n",
    "    '2018-01-01,user1,3',\n",
    "    '2018-01-07,user1,4',\n",
    "    '2018-03-29,user1,1',\n",
    "    '2018-04-04,user1,13',\n",
    "    '2018-01-05,user2,7',\n",
    "    '2018-06-14,user3,4',\n",
    "    '2018-07-02,user3,10',\n",
    "    '2018-03-21,user4,19',\n",
    "    '2018-03-22,user4,4',\n",
    "    '2018-04-22,user4,8',\n",
    "    '2018-05-03,user4,9',\n",
    "    '2018-05-11,user4,11',\n",
    "]"
   ]
  },
  {
   "cell_type": "code",
   "execution_count": 13,
   "metadata": {},
   "outputs": [
    {
     "name": "stdout",
     "output_type": "stream",
     "text": [
      "23.25\n"
     ]
    }
   ],
   "source": [
    "unique_users = []\n",
    "total_pages = 0\n",
    "\n",
    "for visit in stream:\n",
    "    visit = visit.split(',')\n",
    "    total_pages += int(visit[2])\n",
    "    \n",
    "    if visit[1] not in unique_users:\n",
    "        unique_users.append(visit[1])\n",
    "\n",
    "print(round(total_pages / len(unique_users), 2))"
   ]
  },
  {
   "cell_type": "code",
   "execution_count": 15,
   "metadata": {},
   "outputs": [
    {
     "name": "stdout",
     "output_type": "stream",
     "text": [
      "Avg. number of views per user: 23.25\n"
     ]
    }
   ],
   "source": [
    "from collections import Counter\n",
    "\n",
    "cnt = Counter()\n",
    "\n",
    "for log_item in stream:\n",
    "    fields = log_item.split(',')\n",
    "    user = fields[1]\n",
    "    view_count = fields[2]\n",
    "#     print(user, view_count)\n",
    "    cnt[user] += int(view_count)\n",
    "\n",
    "print('Avg. number of views per user:', sum(cnt.values())/len(cnt))"
   ]
  },
  {
   "cell_type": "markdown",
   "metadata": {},
   "source": [
    "“весь список stream не помещается в оперативную память”. Поэтому заполнение списка users приведет к переполнению памяти.\n",
    "Можно использовать условие сортировки исходных данных по ID пользователя и построчно посчитать сколько раз сменится ID пользователя. \n",
    "Это и будет количество уникальных пользователей."
   ]
  },
  {
   "cell_type": "code",
   "execution_count": null,
   "metadata": {},
   "outputs": [],
   "source": []
  },
  {
   "cell_type": "markdown",
   "metadata": {},
   "source": [
    "### *Задание 6*"
   ]
  },
  {
   "cell_type": "markdown",
   "metadata": {},
   "source": [
    "Дана статистика рекламных кампаний по дням. Напишите алгоритм, который по паре дата-кампания ищет значение численного столбца. Т. е. для даты '2018-01-01' и 'google' нужно получить число 25. Считайте, что все комбинации дата-кампания уникальны, а список stats легко помещается в оперативной памяти."
   ]
  },
  {
   "cell_type": "code",
   "execution_count": null,
   "metadata": {},
   "outputs": [],
   "source": [
    "# stats = [\n",
    "#     ['2018-01-01', 'google', 25],\n",
    "#     ['2018-01-01', 'yandex', 65],\n",
    "#     ['2018-01-01', 'market', 89],\n",
    "#     ['2018-01-02', 'google', 574],\n",
    "#     ['2018-01-02', 'yandex', 249],\n",
    "#     ['2018-01-02', 'market', 994],\n",
    "#     ['2018-01-03', 'google', 1843],\n",
    "#     ['2018-01-03', 'yandex', 1327],\n",
    "#     ['2018-01-03', 'market', 1764],\n",
    "# ]"
   ]
  },
  {
   "cell_type": "markdown",
   "metadata": {},
   "source": [
    "### Решение"
   ]
  },
  {
   "cell_type": "code",
   "execution_count": 2,
   "metadata": {},
   "outputs": [],
   "source": [
    "stats = [\n",
    "    ['2018-01-01', 'google', 25],\n",
    "    ['2018-01-01', 'yandex', 65],\n",
    "    ['2018-01-01', 'market', 89],\n",
    "    ['2018-01-02', 'google', 574],\n",
    "    ['2018-01-02', 'yandex', 249],\n",
    "    ['2018-01-02', 'market', 994],\n",
    "    ['2018-01-03', 'google', 1843],\n",
    "    ['2018-01-03', 'yandex', 1327],\n",
    "    ['2018-01-03', 'market', 1764],\n",
    "]"
   ]
  },
  {
   "cell_type": "code",
   "execution_count": 246,
   "metadata": {},
   "outputs": [
    {
     "name": "stdout",
     "output_type": "stream",
     "text": [
      "Введите дату форматом \"YYYY-MM-DD\": 2018-01-01\n",
      "Введите один из ключей (google, yandex, market): google\n",
      "Результат: 25\n"
     ]
    }
   ],
   "source": [
    "inDate = input('Введите дату форматом \"YYYY-MM-DD\": ')\n",
    "inKey = input('Введите один из ключей (google, yandex, market): ')\n",
    "\n",
    "if inDate == '2018-01-01' and inKey == 'google':\n",
    "    print(\"Результат:\", stats[0][2])\n",
    "elif inDate == '2018-01-01' and inKey == 'yandex':\n",
    "    print(\"Результат:\", stats[1][2])\n",
    "elif inDate == '2018-01-01' and inKey == 'market':\n",
    "    print(\"Результат:\", stats[2][2])\n",
    "elif inDate == '2018-01-02' and inKey == 'google':\n",
    "    print(\"Результат:\", stats[3][2])\n",
    "elif inDate == '2018-01-02' and inKey == 'yandex':\n",
    "    print(\"Результат:\", stats[4][2])\n",
    "elif inDate == '2018-01-02' and inKey == 'market':\n",
    "    print(\"Результат:\", stats[5][2])\n",
    "elif inDate == '2018-01-03' and inKey == 'google':\n",
    "    print(\"Результат:\", stats[6][2])\n",
    "elif inDate == '2018-01-03' and inKey == 'yandex':\n",
    "    print(\"Результат:\", stats[7][2])\n",
    "elif inDate == '2018-01-03' and inKey == 'market':\n",
    "    print(\"Результат:\", stats[8][2])\n",
    "else:\n",
    "    print(\"К введенной дате не соответствует ни один ключ!\")"
   ]
  },
  {
   "cell_type": "code",
   "execution_count": 3,
   "metadata": {},
   "outputs": [
    {
     "data": {
      "text/plain": [
       "25"
      ]
     },
     "execution_count": 3,
     "metadata": {},
     "output_type": "execute_result"
    }
   ],
   "source": [
    "def filter_func(date, name):\n",
    "    return list(filter(lambda stat: date in stat and name in stat, stats))[0][-1]\n",
    "\n",
    "filter_func('2018-01-01', 'google')"
   ]
  },
  {
   "cell_type": "code",
   "execution_count": 4,
   "metadata": {},
   "outputs": [
    {
     "name": "stdout",
     "output_type": "stream",
     "text": [
      "25\n"
     ]
    }
   ],
   "source": [
    "# Проходим по списку stats. Если элемент 0 и 1 совпали с введенными значениям, то значит строка найдена:\n",
    "inDate = '2018-01-01'\n",
    "inKey = 'google'\n",
    "\n",
    "for record in stats:\n",
    "    if record[0] == inDate and record[1] == inKey:\n",
    "        print(record[2])"
   ]
  },
  {
   "cell_type": "code",
   "execution_count": 5,
   "metadata": {},
   "outputs": [
    {
     "name": "stdout",
     "output_type": "stream",
     "text": [
      "25\n"
     ]
    }
   ],
   "source": [
    "# Более практичный способ (но совсем неочевидный). Переводим список stats словарь. \n",
    "# В качестве ключа используем кортеж вида (‘2018-01-01’, ‘yandex’). \n",
    "# Потом просто обращаемся к этому словарю за значениями:\n",
    "\n",
    "inDate = '2018-01-01'\n",
    "inKey = 'google'\n",
    "\n",
    "stats_dict = {}\n",
    "\n",
    "for record in stats:\n",
    "    stats_dict[(record[0], record[1])] = record[2]\n",
    "    \n",
    "print(stats_dict[inDate, inKey])"
   ]
  },
  {
   "cell_type": "markdown",
   "metadata": {},
   "source": [
    "### Бонусный вариант (делать его не обязательно)"
   ]
  },
  {
   "cell_type": "markdown",
   "metadata": {},
   "source": [
    "Рассмотрите обобщенный вариант этой задачи: имеется таблица из n столбцов. Первые n-1 столбцов - признаки (комбинации этих признаков в таблице уникальные). Последний столбец - значение. Вам необходимо по набору n-1 признаков найти соответствующую строчку в таблице и вернуть значение из правого столбца. \n",
    "\n",
    "Одно из применений задачи - объединение двух таблиц по n столбцов, одна из которых помещается в оперативной памяти. Например, 7 столбцов по 1 и 10 миллионов строк."
   ]
  },
  {
   "cell_type": "markdown",
   "metadata": {},
   "source": [
    "### Решение"
   ]
  },
  {
   "cell_type": "code",
   "execution_count": null,
   "metadata": {},
   "outputs": [],
   "source": []
  },
  {
   "cell_type": "code",
   "execution_count": null,
   "metadata": {},
   "outputs": [],
   "source": []
  },
  {
   "cell_type": "code",
   "execution_count": null,
   "metadata": {},
   "outputs": [],
   "source": [
    "pass"
   ]
  }
 ],
 "metadata": {
  "kernelspec": {
   "display_name": "Python 3",
   "language": "python",
   "name": "python3"
  },
  "language_info": {
   "codemirror_mode": {
    "name": "ipython",
    "version": 3
   },
   "file_extension": ".py",
   "mimetype": "text/x-python",
   "name": "python",
   "nbconvert_exporter": "python",
   "pygments_lexer": "ipython3",
   "version": "3.7.3"
  }
 },
 "nbformat": 4,
 "nbformat_minor": 2
}
