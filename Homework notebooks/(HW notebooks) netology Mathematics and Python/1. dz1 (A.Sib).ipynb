{
 "cells": [
  {
   "cell_type": "markdown",
   "metadata": {},
   "source": [
    "### ***Занятие 1. Домашнее задание***"
   ]
  },
  {
   "cell_type": "markdown",
   "metadata": {},
   "source": [
    "### **Простые задания**"
   ]
  },
  {
   "cell_type": "markdown",
   "metadata": {},
   "source": [
    "### Задача 1\n",
    "\n",
    "Даны 2 строки long_phrase и short_phrase. Напишите код, который проверяет действительно ли длинная фраза long_phrase длиннее короткой short_phrase. И выводит True или False в зависимости от результата сравнения.\n",
    "\n",
    "long_phrase = 'Насколько проще было бы писать программы, если бы не заказчики'\n",
    "\n",
    "short_phrase = '640Кб должно хватить для любых задач. Билл Гейтс (по легенде)'"
   ]
  },
  {
   "cell_type": "markdown",
   "metadata": {},
   "source": [
    "### Решение"
   ]
  },
  {
   "cell_type": "code",
   "execution_count": 157,
   "metadata": {},
   "outputs": [
    {
     "name": "stdout",
     "output_type": "stream",
     "text": [
      "True\n"
     ]
    }
   ],
   "source": [
    "long_phrase = 'Насколько проще было бы писать программы, если бы не заказчики'\n",
    "short_phrase = '640Кб должно хватить для любых задач. Билл Гейтс (по легенде)'\n",
    "\n",
    "check_1 = len(long_phrase)\n",
    "check_2 = len(short_phrase)\n",
    "\n",
    "if check_1 > check_2:\n",
    "    print(check_1 > check_2)\n",
    "elif check_1 < check_2:\n",
    "    print(check_1 > check_2)\n",
    "else:\n",
    "    print('Длина строк одинаковая и равна {0} символам'.format(len(long_phrase)))"
   ]
  },
  {
   "cell_type": "code",
   "execution_count": null,
   "metadata": {},
   "outputs": [],
   "source": [
    "# len(long_phrase) > len(short_phrase)"
   ]
  },
  {
   "cell_type": "code",
   "execution_count": null,
   "metadata": {},
   "outputs": [],
   "source": []
  },
  {
   "cell_type": "markdown",
   "metadata": {},
   "source": [
    "### Задача 2\n",
    "\n",
    "Дана строка text. Определите какая из двух букв встречается в нем чаще - 'а' или 'и'.\n",
    "\n",
    "text = 'Если программист в 9-00 утра на работе, значит, он там и ночевал'\n",
    "\n",
    "P. S. Вам может помочь методы replace или count для строк."
   ]
  },
  {
   "cell_type": "markdown",
   "metadata": {},
   "source": [
    "### Решение"
   ]
  },
  {
   "cell_type": "code",
   "execution_count": 1,
   "metadata": {},
   "outputs": [],
   "source": [
    "text = 'Если программист в 9-00 утра на работе, значит, он там и ночевал'"
   ]
  },
  {
   "cell_type": "code",
   "execution_count": 158,
   "metadata": {},
   "outputs": [
    {
     "name": "stdout",
     "output_type": "stream",
     "text": [
      "'а' > 'и', колличество совпадений 'а' в тексте равно: 7\n"
     ]
    }
   ],
   "source": [
    "import re\n",
    "text_1 = re.sub(\"[#%!@*0-9-,' ']\", \"\", text)\n",
    "text_2 = text_1.lower()\n",
    "text_3 = ' '.join(text_2)\n",
    "\n",
    "if text_3.count('а') > text_3.count('и'):\n",
    "    print(\"'а' > 'и', колличество совпадений 'а' в тексте равно:\", text_3.count('а'))\n",
    "elif text_3.count('а') < text_3.count('и'):\n",
    "    print(\"'а' < 'и', колличество совпадений 'а' в тексте равно:\", text_3.count('и'))\n",
    "else:\n",
    "    print(\"'а' = 'и', колличество совпадений в тексте равно:\", text_3.count('а'))"
   ]
  },
  {
   "cell_type": "code",
   "execution_count": 3,
   "metadata": {},
   "outputs": [
    {
     "name": "stdout",
     "output_type": "stream",
     "text": [
      "Буква \"а\" встречается чаще\n"
     ]
    }
   ],
   "source": [
    "text = 'Если программист в 9-00 утра на работе, значит, он там и ночевал'\n",
    "if list(text).count('а') > list(text).count('и'):\n",
    "    print('Буква \"а\" встречается чаще')\n",
    "elif list(text).count('а') < list(text).count('и'):\n",
    "    print('Буква \"и\" встречается чаще')\n",
    "else:\n",
    "    print('Буквы встречаются одинаковое количество раз')"
   ]
  },
  {
   "cell_type": "code",
   "execution_count": 15,
   "metadata": {},
   "outputs": [],
   "source": [
    "# a = text.count('а')\n",
    "# b = text.count('б')\n",
    "# print(a)\n",
    "# print(b)\n",
    "# print(a > b)\n",
    "\n",
    "# z = list(text)\n",
    "# type(z)"
   ]
  },
  {
   "cell_type": "markdown",
   "metadata": {},
   "source": [
    "### Задача 3\n",
    "Дано значение объема файла в байтах. Напишите перевод этого значения в мегабайты в формате:\n",
    "\n",
    "'Объем файла равен 213.68Mb'\n",
    "\n",
    "P. S. Найдите определение килобайта. Это не 1000 байт."
   ]
  },
  {
   "cell_type": "markdown",
   "metadata": {},
   "source": [
    "### Решение"
   ]
  },
  {
   "cell_type": "code",
   "execution_count": null,
   "metadata": {},
   "outputs": [],
   "source": [
    "# 1 байт - 8 бит\n",
    "# 1 килобайт - 1024 байт\n",
    "# 1 мегабайт - 1024 килобайт\n",
    "# 1 гигабайт - 1024 мегабайт\n",
    "# 1 терабайт - 1024 гигабайт\n",
    "# 1 петабайт - 1024 терабайт\n",
    "# 1 эксабайт - 1024 петабайт\n",
    "# 1 зеттабайт - 1024 эксабайт\n",
    "# 1 йоттабайт - 1024 зеттабайт"
   ]
  },
  {
   "cell_type": "code",
   "execution_count": 74,
   "metadata": {},
   "outputs": [
    {
     "name": "stdout",
     "output_type": "stream",
     "text": [
      "Объем файла равен 213.68Mb\n"
     ]
    }
   ],
   "source": [
    "Kbyte = 1024\n",
    "input_Mbyte = 213.68\n",
    "\n",
    "numKB = Kbyte * input_Mbyte\n",
    "numMb = numKB / Kbyte\n",
    "\n",
    "print('Объем файла равен {0}Mb'.format(numMb))"
   ]
  },
  {
   "cell_type": "code",
   "execution_count": 73,
   "metadata": {},
   "outputs": [
    {
     "name": "stdout",
     "output_type": "stream",
     "text": [
      "Введите число Mbyte, для конвертиции в Kbyte 213.68\n"
     ]
    },
    {
     "data": {
      "text/plain": [
       "218808.32"
      ]
     },
     "execution_count": 73,
     "metadata": {},
     "output_type": "execute_result"
    }
   ],
   "source": [
    "# Kbyte = 1024\n",
    "# inp__Mbyte = float(input('Введите число Mbyte, для конвертиции в Kbyte '))\n",
    "# numKbyte = Kbyte * inp__Mbyte\n",
    "# numKbyte"
   ]
  },
  {
   "cell_type": "code",
   "execution_count": 56,
   "metadata": {
    "scrolled": true
   },
   "outputs": [
    {
     "name": "stdout",
     "output_type": "stream",
     "text": [
      "Выберите единицы измерения:\n",
      " \t1 - байты,\n",
      " \t2 - килобайты,\n",
      " \t3 - мегабайты,\n",
      " \t4 - гигабайты.\n",
      "№: 3\n",
      "Введите значение: 213.68\n",
      "Байты:      224059719\n",
      "Килобайты:     218808\n",
      "Гигабайты:      0.209\n"
     ]
    }
   ],
   "source": [
    "# units = input(\"Выберите единицы измерения:\\n \\\n",
    "# \\t1 - байты,\\n \\\n",
    "# \\t2 - килобайты,\\n \\\n",
    "# \\t3 - мегабайты,\\n \\\n",
    "# \\t4 - гигабайты.\\n№: \")\n",
    " \n",
    "# qty = float(input(\"Введите значение: \"))\n",
    " \n",
    "# if units == '1':\n",
    "#     print(\"Килобайты: %10.3f\" % (qty / 2**10))\n",
    "#     print(\"Мегабайты: %10.3f\" % (qty / 2**20))\n",
    "#     print(\"Гигабайты: %10.3f\" % (qty / 2**30))\n",
    "# elif units == '2':\n",
    "#     print(\"Байты: %14d\" % (qty * 2**10))\n",
    "#     print(\"Мегабайты: %10.3f\" % (qty / 2**10))\n",
    "#     print(\"Гигабайты: %10.3f\" % (qty / 2**20))\n",
    "# elif units == '3':\n",
    "#     print(\"Байты: %14d\" % (qty * 2**20))\n",
    "#     print(\"Килобайты: %10d\" % (qty * 2**10))\n",
    "#     print(\"Гигабайты: %10.3f\" % (qty / 2**10))\n",
    "# elif units == '4':\n",
    "#     print(\"Байты: %14d\" % (qty * 2**30))\n",
    "#     print(\"Килобайты: %10d\" % (qty * 2**20))\n",
    "#     print(\"Мегабайты: %10d\" % (qty * 2**10))"
   ]
  },
  {
   "cell_type": "markdown",
   "metadata": {},
   "source": [
    "### Задача 4\n",
    "\n",
    "Выведите на экран значение синуса 30 градусов с помощью метода math.sin."
   ]
  },
  {
   "cell_type": "markdown",
   "metadata": {},
   "source": [
    "### Решение"
   ]
  },
  {
   "cell_type": "code",
   "execution_count": 16,
   "metadata": {},
   "outputs": [],
   "source": [
    "import math"
   ]
  },
  {
   "cell_type": "code",
   "execution_count": 205,
   "metadata": {},
   "outputs": [],
   "source": [
    "gradus = 30\n",
    "r = (gradus*math.pi)/180\n",
    "result = math.sin(r)\n",
    "print(result)\n",
    "print(f'Значение синуса 30 градусов = {result:.1}')"
   ]
  },
  {
   "cell_type": "code",
   "execution_count": 47,
   "metadata": {},
   "outputs": [],
   "source": [
    "# # round(math.sin(math.radians(30)), 1)\n",
    "\n",
    "# m = math.radians(30)\n",
    "# m\n",
    "\n",
    "# s = math.sin(m)\n",
    "# print('{:.1f}'.format(s))"
   ]
  },
  {
   "cell_type": "markdown",
   "metadata": {},
   "source": [
    "### Задача 5\n",
    "\n",
    "В прошлом задании у вас скорее всего не получилось точного значения 0.5 из-за конечной точности вычисления синуса. Но почему некоторые простые операции также могут давать неточный результат? Попробуйте вывести на экран результат операции 0.1 + 0.2. \n",
    "\n",
    "Почему результат неточен?"
   ]
  },
  {
   "cell_type": "markdown",
   "metadata": {},
   "source": [
    "### Решение"
   ]
  },
  {
   "cell_type": "code",
   "execution_count": 51,
   "metadata": {},
   "outputs": [
    {
     "name": "stdout",
     "output_type": "stream",
     "text": [
      "0.30000000000000004\n",
      "0.3\n"
     ]
    }
   ],
   "source": [
    "num = 0.1 + 0.2\n",
    "print(num)\n",
    "print(round(num, 1))"
   ]
  },
  {
   "cell_type": "code",
   "execution_count": 53,
   "metadata": {},
   "outputs": [],
   "source": [
    "# т.к. тип данные float и мы не указали формат вывода рассчета (сколько знаков после запятой), по этому получаем 17 знаков.\n",
    "# для более точного вывода можно приводить необходимое значение через .format() \n",
    "# либо использовать встроенную функцию round() - округление к ближайшему чётному \"банковское округление\"\n",
    "# Округление \"вверх\" math.ceil() \n",
    "# Округление \"вниз\" math.floor()"
   ]
  },
  {
   "cell_type": "code",
   "execution_count": null,
   "metadata": {},
   "outputs": [],
   "source": [
    "# невозможность представления некоторых десятичных дробей в двоичной системе счисления"
   ]
  },
  {
   "cell_type": "markdown",
   "metadata": {},
   "source": [
    "### **Задания посложнее**"
   ]
  },
  {
   "cell_type": "markdown",
   "metadata": {},
   "source": [
    "### Задача 6\n",
    "\n",
    "В переменных a и b записаны 2 различных числа. Вам необходимо написать код, который меняет значения a и b местами без использования третьей переменной."
   ]
  },
  {
   "cell_type": "markdown",
   "metadata": {},
   "source": [
    "### Решение"
   ]
  },
  {
   "cell_type": "code",
   "execution_count": 165,
   "metadata": {},
   "outputs": [
    {
     "name": "stdout",
     "output_type": "stream",
     "text": [
      "Вывод заданных переменных: 86 51\n",
      "Вывод заданных переменных, после перестановки значений: 51 86\n"
     ]
    }
   ],
   "source": [
    "a = 86\n",
    "b = 51\n",
    "print(\"Вывод заданных переменных:\", a, b)\n",
    "\n",
    "a, b = b, a\n",
    "print(\"Вывод заданных переменных, после перестановки значений:\", a, b)"
   ]
  },
  {
   "cell_type": "code",
   "execution_count": 1,
   "metadata": {},
   "outputs": [
    {
     "name": "stdout",
     "output_type": "stream",
     "text": [
      "7 5\n"
     ]
    }
   ],
   "source": [
    "a = 5\n",
    "b = 7\n",
    "\n",
    "a = a + b # a=12, b=7\n",
    "b = a - b # a=12, b=5\n",
    "a = a - b # a=7, b=5\n",
    "\n",
    "print(a, b)"
   ]
  },
  {
   "cell_type": "code",
   "execution_count": null,
   "metadata": {},
   "outputs": [],
   "source": []
  },
  {
   "cell_type": "markdown",
   "metadata": {},
   "source": [
    "### Задача 7\n",
    "\n",
    "Дано число в двоичной системе счисления: num=10011. Напишите алгоритм перевода этого числа в привычную нам десятичную систему счисления.\n",
    "\n",
    "Возможно, вам понадобится цикл прохождения всех целых чисел от 0 до m:\n",
    "\n",
    "for n in range(m)"
   ]
  },
  {
   "cell_type": "markdown",
   "metadata": {},
   "source": [
    "### Решение"
   ]
  },
  {
   "cell_type": "code",
   "execution_count": 77,
   "metadata": {},
   "outputs": [],
   "source": [
    "num = 10011"
   ]
  },
  {
   "cell_type": "code",
   "execution_count": 78,
   "metadata": {
    "scrolled": true
   },
   "outputs": [
    {
     "name": "stdout",
     "output_type": "stream",
     "text": [
      "Двоичное целое число 10011 соответствует десятичному числу 19\n"
     ]
    }
   ],
   "source": [
    "print(\"Двоичное целое число\", num, \"соответствует десятичному числу\", int(str(num), 2))"
   ]
  },
  {
   "cell_type": "code",
   "execution_count": 80,
   "metadata": {},
   "outputs": [
    {
     "data": {
      "text/plain": [
       "19"
      ]
     },
     "execution_count": 80,
     "metadata": {},
     "output_type": "execute_result"
    }
   ],
   "source": [
    "int(str(num), 2)"
   ]
  },
  {
   "cell_type": "code",
   "execution_count": 85,
   "metadata": {},
   "outputs": [
    {
     "data": {
      "text/plain": [
       "'10011'"
      ]
     },
     "execution_count": 85,
     "metadata": {},
     "output_type": "execute_result"
    }
   ],
   "source": [
    "num2 = 19\n",
    "bin(int(num2))[2:]"
   ]
  },
  {
   "cell_type": "code",
   "execution_count": null,
   "metadata": {},
   "outputs": [],
   "source": [
    "# num = 10011\n",
    "# str_num = str(10011)\n",
    "# res = 0\n",
    "# for i in range(0, len(str_num)):\n",
    "#     res = res + int(str_num[i]) * (2 ** (len(str_num) - i - 1))\n",
    "# print(res)"
   ]
  },
  {
   "cell_type": "code",
   "execution_count": 211,
   "metadata": {},
   "outputs": [],
   "source": [
    "pass"
   ]
  }
 ],
 "metadata": {
  "kernelspec": {
   "display_name": "Python 3",
   "language": "python",
   "name": "python3"
  },
  "language_info": {
   "codemirror_mode": {
    "name": "ipython",
    "version": 3
   },
   "file_extension": ".py",
   "mimetype": "text/x-python",
   "name": "python",
   "nbconvert_exporter": "python",
   "pygments_lexer": "ipython3",
   "version": "3.7.2"
  }
 },
 "nbformat": 4,
 "nbformat_minor": 2
}
