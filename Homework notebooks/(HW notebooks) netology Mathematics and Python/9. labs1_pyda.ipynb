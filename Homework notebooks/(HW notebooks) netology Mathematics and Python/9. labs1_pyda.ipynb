{
 "cells": [
  {
   "cell_type": "code",
   "execution_count": 1,
   "metadata": {},
   "outputs": [],
   "source": [
    "import pandas as pd\n",
    "import numpy as np\n",
    "import random"
   ]
  },
  {
   "cell_type": "code",
   "execution_count": 2,
   "metadata": {},
   "outputs": [],
   "source": [
    "# 1.1"
   ]
  },
  {
   "cell_type": "code",
   "execution_count": 5,
   "metadata": {},
   "outputs": [
    {
     "name": "stdout",
     "output_type": "stream",
     "text": [
      "163\n"
     ]
    }
   ],
   "source": [
    "some_list = [1, 14, 16, 2, 96, 26, 4, 1, 7, 11]\n",
    "_sum = 0\n",
    "\n",
    "for item in some_list:\n",
    "    if item > 10:\n",
    "        _sum += item\n",
    "\n",
    "print(_sum)"
   ]
  },
  {
   "cell_type": "code",
   "execution_count": 6,
   "metadata": {},
   "outputs": [],
   "source": [
    "# 1.2"
   ]
  },
  {
   "cell_type": "code",
   "execution_count": 11,
   "metadata": {},
   "outputs": [
    {
     "name": "stdout",
     "output_type": "stream",
     "text": [
      "somer\n",
      "r\n",
      "ends with r\n",
      "Trigger\n"
     ]
    }
   ],
   "source": [
    "some_other_list = ['John', 'Some', 'just', 'a', 'put', 'gun',\n",
    "                  'his', 'again', 'somer', 'head', 'but', 'get',\n",
    "                  'another one', 'r', 'ends with r', 'right', 'stop', 'Trigger']\n",
    "\n",
    "# for item in some_other_list:\n",
    "#     if item.endswith('r'):\n",
    "#         print(item)\n",
    "\n",
    "for item in some_other_list:\n",
    "#     if 'r' in item[-1]:\n",
    "    if 'r' == item[-1]:\n",
    "        print(item)"
   ]
  },
  {
   "cell_type": "code",
   "execution_count": null,
   "metadata": {},
   "outputs": [],
   "source": [
    "# 1.3"
   ]
  },
  {
   "cell_type": "code",
   "execution_count": 2,
   "metadata": {},
   "outputs": [
    {
     "data": {
      "text/plain": [
       "36575"
      ]
     },
     "execution_count": 2,
     "metadata": {},
     "output_type": "execute_result"
    }
   ],
   "source": [
    "number = 0\n",
    "\n",
    "while '3' not in str(number):\n",
    "    number = random.randint(10000, 100000)\n",
    "\n",
    "number"
   ]
  },
  {
   "cell_type": "code",
   "execution_count": null,
   "metadata": {},
   "outputs": [],
   "source": [
    "# 1.4"
   ]
  },
  {
   "cell_type": "code",
   "execution_count": 36,
   "metadata": {},
   "outputs": [
    {
     "name": "stdout",
     "output_type": "stream",
     "text": [
      "9\n"
     ]
    }
   ],
   "source": [
    "solme_str_list = 'Anyway the wind blows, doesn\\'t really matter to me'\n",
    "\n",
    "ssl = solme_str_list.split(' ')\n",
    "print(len(ssl))"
   ]
  },
  {
   "cell_type": "code",
   "execution_count": null,
   "metadata": {},
   "outputs": [],
   "source": [
    "# 2.1"
   ]
  },
  {
   "cell_type": "code",
   "execution_count": 39,
   "metadata": {},
   "outputs": [
    {
     "name": "stdout",
     "output_type": "stream",
     "text": [
      "45\n"
     ]
    }
   ],
   "source": [
    "matrix = [\n",
    "    [1, 2, 3],\n",
    "    [4, 5, 6],\n",
    "    [7, 8, 9]\n",
    "]\n",
    "\n",
    "print(np.sum(matrix))"
   ]
  },
  {
   "cell_type": "code",
   "execution_count": null,
   "metadata": {},
   "outputs": [],
   "source": [
    "# 2.2"
   ]
  },
  {
   "cell_type": "code",
   "execution_count": 45,
   "metadata": {},
   "outputs": [
    {
     "name": "stdout",
     "output_type": "stream",
     "text": [
      "20\n"
     ]
    }
   ],
   "source": [
    "matrix = [\n",
    "    [1, 3, 5, 0, 1, 2, 3],\n",
    "    [6, 3, 2, 4, 2, 2, 1],\n",
    "    [4, 1, 1, 0, 0, 9, 2],\n",
    "    [7, 9, 6, 3, 3, 7, 5]\n",
    "]\n",
    "\n",
    "print(max(np.sum(matrix, axis=0)))"
   ]
  },
  {
   "cell_type": "code",
   "execution_count": 40,
   "metadata": {},
   "outputs": [],
   "source": [
    "# 3.1"
   ]
  },
  {
   "cell_type": "code",
   "execution_count": 50,
   "metadata": {},
   "outputs": [
    {
     "data": {
      "text/plain": [
       "{123123: ['Ivanov', 21, 'PYDA-1'],\n",
       " 453124: ['Petrov', 19, 'PY-5'],\n",
       " 123895: ['Sidorov', 27, 'DB-1'],\n",
       " 903126: ['Some', 21, 'PYDA-2']}"
      ]
     },
     "execution_count": 50,
     "metadata": {},
     "output_type": "execute_result"
    }
   ],
   "source": [
    "data = [\n",
    "    [123123, 'Ivanov', 21, 'PYDA-1'],\n",
    "    [453124, 'Petrov', 19, 'PY-5'],\n",
    "    [123895, 'Sidorov', 27, 'DB-1'],\n",
    "    [903126, 'Some', 21, 'PYDA-2']\n",
    "]\n",
    "\n",
    "data_dict = dict()\n",
    "\n",
    "for item in data:\n",
    "    data_dict[item[0]] = item[1:]\n",
    "\n",
    "data_dict"
   ]
  },
  {
   "cell_type": "code",
   "execution_count": null,
   "metadata": {},
   "outputs": [],
   "source": [
    "# 3.2"
   ]
  },
  {
   "cell_type": "code",
   "execution_count": 56,
   "metadata": {},
   "outputs": [
    {
     "name": "stdout",
     "output_type": "stream",
     "text": [
      "Фамилия: Ivanov\n",
      "Новая группа: PYDA-5\n"
     ]
    },
    {
     "data": {
      "text/plain": [
       "{123123: ['Ivanov', 21, 'PYDA-5'],\n",
       " 453124: ['Petrov', 19, 'PY-5'],\n",
       " 123895: ['Sidorov', 27, 'DB-1'],\n",
       " 903126: ['Some', 21, 'PYDA-2']}"
      ]
     },
     "execution_count": 56,
     "metadata": {},
     "output_type": "execute_result"
    }
   ],
   "source": [
    "student = input('Фамилия: ')\n",
    "new_group = input('Новая группа: ')\n",
    "\n",
    "for item in data_dict.values():\n",
    "    if student in item:\n",
    "        item[2] = new_group\n",
    "\n",
    "data_dict"
   ]
  },
  {
   "cell_type": "code",
   "execution_count": null,
   "metadata": {},
   "outputs": [],
   "source": [
    "# 3.3"
   ]
  },
  {
   "cell_type": "code",
   "execution_count": 58,
   "metadata": {},
   "outputs": [
    {
     "name": "stdout",
     "output_type": "stream",
     "text": [
      "Фамилия: Ivanov\n",
      "Возрост: 30\n"
     ]
    },
    {
     "data": {
      "text/plain": [
       "{123123: ['Ivanov', '30', 'PYDA-5'],\n",
       " 453124: ['Petrov', 19, 'PY-5'],\n",
       " 123895: ['Sidorov', 27, 'DB-1'],\n",
       " 903126: ['Some', 21, 'PYDA-2']}"
      ]
     },
     "execution_count": 58,
     "metadata": {},
     "output_type": "execute_result"
    }
   ],
   "source": [
    "student = input('Фамилия: ')\n",
    "new_age = input('Возрост: ')\n",
    "\n",
    "for item in data_dict.values():\n",
    "    if student in item:\n",
    "        item[1] = new_age\n",
    "\n",
    "data_dict"
   ]
  },
  {
   "cell_type": "code",
   "execution_count": null,
   "metadata": {},
   "outputs": [],
   "source": [
    "pass"
   ]
  }
 ],
 "metadata": {
  "kernelspec": {
   "display_name": "Python 3",
   "language": "python",
   "name": "python3"
  },
  "language_info": {
   "codemirror_mode": {
    "name": "ipython",
    "version": 3
   },
   "file_extension": ".py",
   "mimetype": "text/x-python",
   "name": "python",
   "nbconvert_exporter": "python",
   "pygments_lexer": "ipython3",
   "version": "3.7.3"
  }
 },
 "nbformat": 4,
 "nbformat_minor": 2
}
